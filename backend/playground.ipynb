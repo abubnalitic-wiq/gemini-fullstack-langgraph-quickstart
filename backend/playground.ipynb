{
 "cells": [
  {
   "cell_type": "code",
   "execution_count": 1,
   "id": "0bb978a8",
   "metadata": {},
   "outputs": [],
   "source": [
    "from src.query_tools.bigquery_connector import BigQuerySQLExecutor"
   ]
  },
  {
   "cell_type": "code",
   "execution_count": 2,
   "id": "11f89239",
   "metadata": {},
   "outputs": [],
   "source": [
    "bq = BigQuerySQLExecutor(project_id=\"wiq-gen-ai-rd-dev\")"
   ]
  },
  {
   "cell_type": "code",
   "execution_count": 3,
   "id": "1910a374",
   "metadata": {},
   "outputs": [
    {
     "data": {
      "text/plain": [
       "True"
      ]
     },
     "execution_count": 3,
     "metadata": {},
     "output_type": "execute_result"
    }
   ],
   "source": [
    "bq.test_connection()"
   ]
  },
  {
   "cell_type": "code",
   "execution_count": 5,
   "id": "9716257b",
   "metadata": {},
   "outputs": [
    {
     "data": {
      "text/plain": [
       "['dim_date', 'fact_profit']"
      ]
     },
     "execution_count": 5,
     "metadata": {},
     "output_type": "execute_result"
    }
   ],
   "source": [
    "bq.list_tables(\"finance\")"
   ]
  },
  {
   "cell_type": "code",
   "execution_count": 6,
   "id": "dcdefac1",
   "metadata": {},
   "outputs": [
    {
     "data": {
      "text/plain": [
       "QueryResult(rows=[{'test_value': 1}], column_names=['test_value'], row_count=1, execution_time_seconds=2.133368968963623, query='SELECT 1 as test_value', is_truncated=False, total_rows_available=1, metadata={'job_id': '123c0f4a-9f79-4827-9578-ca1b884f9290', 'bytes_processed': 0, 'bytes_billed': 0, 'slot_millis': None, 'project_id': 'wiq-gen-ai-rd-dev', 'cache_hit': True})"
      ]
     },
     "execution_count": 6,
     "metadata": {},
     "output_type": "execute_result"
    }
   ],
   "source": [
    "bq.execute_query(\"SELECT 1 as test_value\")"
   ]
  },
  {
   "cell_type": "code",
   "execution_count": null,
   "id": "f82f58fe",
   "metadata": {},
   "outputs": [],
   "source": [
    "from src.query_tools.query_functions import (\n",
    "    weekly_store_performance_metrics,\n",
    "    sales_vs_budget_by_fiscal_period,\n",
    "    sales_vs_budget_by_fiscal_period,\n",
    "    weekly_sales_and_gross_profit_by_subcategory,\n",
    "    example_usage\n",
    ")\n"
   ]
  },
  {
   "cell_type": "code",
   "execution_count": null,
   "id": "b99074d3",
   "metadata": {},
   "outputs": [],
   "source": []
  }
 ],
 "metadata": {
  "kernelspec": {
   "display_name": ".venv",
   "language": "python",
   "name": "python3"
  },
  "language_info": {
   "codemirror_mode": {
    "name": "ipython",
    "version": 3
   },
   "file_extension": ".py",
   "mimetype": "text/x-python",
   "name": "python",
   "nbconvert_exporter": "python",
   "pygments_lexer": "ipython3",
   "version": "3.12.9"
  }
 },
 "nbformat": 4,
 "nbformat_minor": 5
}
