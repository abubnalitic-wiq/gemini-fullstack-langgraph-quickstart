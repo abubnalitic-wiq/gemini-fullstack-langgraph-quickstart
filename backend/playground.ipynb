{
 "cells": [
  {
   "cell_type": "code",
   "execution_count": 1,
   "id": "0bb978a8",
   "metadata": {},
   "outputs": [],
   "source": [
    "from src.query_tools.bigquery_connector import BigQuerySQLExecutor"
   ]
  },
  {
   "cell_type": "code",
   "execution_count": 2,
   "id": "11f89239",
   "metadata": {},
   "outputs": [],
   "source": [
    "bq = BigQuerySQLExecutor(project_id=\"wiq-gen-ai-rd-dev\")"
   ]
  },
  {
   "cell_type": "code",
   "execution_count": 3,
   "id": "1910a374",
   "metadata": {},
   "outputs": [
    {
     "data": {
      "text/plain": [
       "True"
      ]
     },
     "execution_count": 3,
     "metadata": {},
     "output_type": "execute_result"
    }
   ],
   "source": [
    "bq.test_connection()"
   ]
  },
  {
   "cell_type": "code",
   "execution_count": 4,
   "id": "9716257b",
   "metadata": {},
   "outputs": [
    {
     "data": {
      "text/plain": [
       "['dim_date', 'fact_profit']"
      ]
     },
     "execution_count": 4,
     "metadata": {},
     "output_type": "execute_result"
    }
   ],
   "source": [
    "bq.list_tables(\"finance\")"
   ]
  },
  {
   "cell_type": "code",
   "execution_count": 5,
   "id": "dcdefac1",
   "metadata": {},
   "outputs": [
    {
     "data": {
      "text/plain": [
       "QueryResult(rows=[{'test_value': 1}], column_names=['test_value'], row_count=1, execution_time_seconds=0.5142960548400879, query='SELECT 1 as test_value', is_truncated=False, total_rows_available=1, metadata={'job_id': 'dec17bbe-d30d-49b7-9cb9-ff73750fc29d', 'bytes_processed': 0, 'bytes_billed': 0, 'slot_millis': None, 'project_id': 'wiq-gen-ai-rd-dev', 'cache_hit': True})"
      ]
     },
     "execution_count": 5,
     "metadata": {},
     "output_type": "execute_result"
    }
   ],
   "source": [
    "bq.execute_query(\"SELECT 1 as test_value\")"
   ]
  },
  {
   "cell_type": "code",
   "execution_count": 6,
   "id": "f82f58fe",
   "metadata": {},
   "outputs": [],
   "source": [
    "from src.query_tools.query_functions import (\n",
    "    weekly_store_performance_metrics,\n",
    "    sales_vs_budget_by_fiscal_period,\n",
    "    sales_vs_budget_by_fiscal_period,\n",
    "    weekly_sales_and_gross_profit_by_subcategory,\n",
    "    example_usage\n",
    ")\n"
   ]
  },
  {
   "cell_type": "code",
   "execution_count": 7,
   "id": "9ac4ebf2",
   "metadata": {},
   "outputs": [
    {
     "data": {
      "text/plain": [
       "QueryResult(rows=[{'test_value': 1}], column_names=['test_value'], row_count=1, execution_time_seconds=0.4461081027984619, query='SELECT 1 as test_value', is_truncated=False, total_rows_available=1, metadata={'job_id': '2647a42d-2f70-4090-b510-05289f915059', 'bytes_processed': 0, 'bytes_billed': 0, 'slot_millis': None, 'project_id': 'wiq-gen-ai-rd-dev', 'cache_hit': True})"
      ]
     },
     "execution_count": 7,
     "metadata": {},
     "output_type": "execute_result"
    }
   ],
   "source": [
    "bq.execute_query(\"SELECT 1 as test_value\")"
   ]
  },
  {
   "cell_type": "code",
   "execution_count": 9,
   "id": "b99074d3",
   "metadata": {},
   "outputs": [
    {
     "name": "stderr",
     "output_type": "stream",
     "text": [
      "\u001b[32m2025-06-18 17:24:25.967\u001b[0m | \u001b[34m\u001b[1mDEBUG   \u001b[0m | \u001b[36msrc.query_tools.query_functions\u001b[0m:\u001b[36mweekly_store_performance_metrics\u001b[0m:\u001b[36m96\u001b[0m - \u001b[34m\u001b[1mGenerating weekly store performance query for salesorg: 1005, regions: ['1000SR01-SOPS', '1000SR02-SOPS']\u001b[0m\n",
      "\u001b[32m2025-06-18 17:24:25.968\u001b[0m | \u001b[1mINFO    \u001b[0m | \u001b[36msrc.query_tools.query_functions\u001b[0m:\u001b[36mexample_usage\u001b[0m:\u001b[36m514\u001b[0m - \u001b[1mGenerated weekly store performance query with parameters\u001b[0m\n",
      "\u001b[32m2025-06-18 17:24:25.968\u001b[0m | \u001b[34m\u001b[1mDEBUG   \u001b[0m | \u001b[36msrc.query_tools.query_functions\u001b[0m:\u001b[36msales_vs_budget_by_fiscal_period\u001b[0m:\u001b[36m196\u001b[0m - \u001b[34m\u001b[1mGenerating sales vs budget query for salesorg: 1005, timehierarchy: Last Completed Period TY\u001b[0m\n",
      "\u001b[32m2025-06-18 17:24:25.969\u001b[0m | \u001b[1mINFO    \u001b[0m | \u001b[36msrc.query_tools.query_functions\u001b[0m:\u001b[36mexample_usage\u001b[0m:\u001b[36m520\u001b[0m - \u001b[1mGenerated sales vs budget query with parameters\u001b[0m\n"
     ]
    }
   ],
   "source": [
    "qry = example_usage()"
   ]
  },
  {
   "cell_type": "code",
   "execution_count": 12,
   "id": "9b952707",
   "metadata": {},
   "outputs": [],
   "source": [
    "\n",
    "# q = \"SELECT @p + @t as test_value, @p - @t as test_value_diff, @p * @t as test_value_product, @s\"\n",
    "# p = {\"p\": 40, \"t\": 2, \"s\": \"thsi is a test\"}\n",
    "r = bq.execute_query(query=qry[\"weekly_performance\"][0], parameters=qry[\"weekly_performance\"][1])"
   ]
  },
  {
   "cell_type": "code",
   "execution_count": 10,
   "id": "e020f76b",
   "metadata": {},
   "outputs": [],
   "source": [
    "r = bq.execute_query(query=qry[\"sales_vs_budget\"][0], parameters=qry[\"sales_vs_budget\"][1])"
   ]
  },
  {
   "cell_type": "code",
   "execution_count": 11,
   "id": "22bbe017",
   "metadata": {},
   "outputs": [
    {
     "data": {
      "text/plain": [
       "[{'fiscal_period': '2025011',\n",
       "  'actuals_sales': 3713298257.508712,\n",
       "  'ops_budget': 3689890795.2314324,\n",
       "  'merch_budget': 3689890970.4960036}]"
      ]
     },
     "execution_count": 11,
     "metadata": {},
     "output_type": "execute_result"
    }
   ],
   "source": [
    "r.rows"
   ]
  },
  {
   "cell_type": "code",
   "execution_count": 11,
   "id": "06082316",
   "metadata": {},
   "outputs": [],
   "source": [
    "params = {'salesorg': '1005',\n",
    " 'regions': ['1000SR01-SOPS'],\n",
    " 'timezone_1': 'Australia/Sydney',\n",
    " 'timezone_2': 'Australia/Sydney',\n",
    " 'timezone_3': 'Australia/Sydney',\n",
    " 'timezone_4': 'Australia/Sydney',\n",
    " 'comparison_days_1': 92,\n",
    " 'comparison_days_2': 1,\n",
    " 'comparison_days_3': 456,\n",
    " 'comparison_days_4': 364,\n",
    " 'comparison_days_offset_1': -1,\n",
    " 'comparison_days_offset_2': -1}"
   ]
  },
  {
   "cell_type": "code",
   "execution_count": null,
   "id": "7a809825",
   "metadata": {},
   "outputs": [
    {
     "data": {
      "text/plain": [
       "\"\\n    SELECT\\n      fact_profit.fiscal_week,\\n      CASE\\n        WHEN fact_profit.calendar_day BETWEEN DATE_SUB(DATE_TRUNC(DATE_SUB(CURRENT_DATE('Australia/Sydney'), INTERVAL 92 DAY), WEEK), INTERVAL -1 DAY) AND DATE_TRUNC(DATE_SUB(CURRENT_DATE('Australia/Sydney'), INTERVAL 1 DAY), WEEK)\\n        THEN 'TY'\\n        WHEN fact_profit.calendar_day BETWEEN DATE_SUB(DATE_TRUNC(DATE_SUB(CURRENT_DATE('Australia/Sydney'), INTERVAL 456 DAY), WEEK), INTERVAL -1 DAY) AND DATE_TRUNC(DATE_SUB(CURRENT_DATE('Australia/Sydney'), INTERVAL 364 DAY), WEEK)\\n        THEN 'LY'\\n      END AS fiscal_year,\\n      fact_profit.site,\\n      fact_profit.site_description,\\n      CASE\\n        WHEN fact_profit.coles_competitor_distance = '<1 KM'\\n        THEN 'Less than 1km'\\n        WHEN fact_profit.coles_competitor_distance = '1-3 KM'\\n        THEN '1km to 3km'\\n        WHEN fact_profit.coles_competitor_distance = '3-5 KM'\\n        THEN '3km to 5km'\\n        WHEN fact_profit.coles_competitor_distance = '>5 KM'\\n        THEN 'Greater than 5km'\\n        WHEN fact_profit.coles_competitor_distance = 'Same Centre'\\n        THEN 'Same Centre'\\n      END AS coles_competitor_distance,\\n      fact_profit.store_segment,\\n      SUM(fact_profit.sales_excltax) AS sales,\\n      -SUM(fact_profit.total_stock_adjustments) + SUM(fact_profit.dumps_cost) AS stock_adj,\\n      SUM(fact_profit.total_stock_loss) AS tsl,\\n      Safe_Divide(\\n        -SUM(fact_profit.total_stock_adjustments) + SUM(fact_profit.dumps_cost),\\n        SUM(fact_profit.sales_excltax)\\n      ) AS stk_adj_rate,\\n      SUM(fact_profit.items_sold) AS itemssold,\\n      SUM(fact_profit.transaction_cnt_site) AS customers\\n    FROM gcp-wow-ent-im-tbl-prod.gs_allgrp_fin_data.fin_group_profit_v AS fact_profit\\n    WHERE\\n      fact_profit.salesorg = @salesorg\\n      AND fact_profit.region IN UNNEST(@regions)\\n      AND NOT fact_profit.zone LIKE '%CLSD'\\n      AND NOT fact_profit.zone LIKE '%REGX'\\n      AND (\\n        fact_profit.calendar_day BETWEEN DATE_SUB(DATE_TRUNC(DATE_SUB(CURRENT_DATE(@timezone_1), INTERVAL @comparison_days_1 DAY), WEEK), INTERVAL @comparison_days_offset_1 DAY) AND DATE_TRUNC(DATE_SUB(CURRENT_DATE(@timezone_2), INTERVAL @comparison_days_2 DAY), WEEK)\\n        OR fact_profit.calendar_day BETWEEN DATE_SUB(DATE_TRUNC(DATE_SUB(CURRENT_DATE(@timezone_3), INTERVAL @comparison_days_3 DAY), WEEK), INTERVAL @comparison_days_offset_2 DAY) AND DATE_TRUNC(DATE_SUB(CURRENT_DATE(@timezone_4), INTERVAL @comparison_days_4 DAY), WEEK)\\n      )\\n    GROUP BY ALL\\n    ORDER BY\\n      fiscal_week;\\n    \""
      ]
     },
     "execution_count": 11,
     "metadata": {},
     "output_type": "execute_result"
    }
   ],
   "source": [
    "bq.execute_query(sql)"
   ]
  },
  {
   "cell_type": "code",
   "execution_count": 12,
   "id": "d38e6e87",
   "metadata": {},
   "outputs": [],
   "source": [
    "sql = \"\"\"\n",
    "    SELECT\n",
    "      fact_profit.fiscal_week,\n",
    "      CASE\n",
    "        WHEN fact_profit.calendar_day BETWEEN DATE_SUB(DATE_TRUNC(DATE_SUB(CURRENT_DATE('Australia/Sydney'), INTERVAL 92 DAY), WEEK), INTERVAL -1 DAY) AND DATE_TRUNC(DATE_SUB(CURRENT_DATE('Australia/Sydney'), INTERVAL 1 DAY), WEEK)\n",
    "        THEN 'TY'\n",
    "        WHEN fact_profit.calendar_day BETWEEN DATE_SUB(DATE_TRUNC(DATE_SUB(CURRENT_DATE('Australia/Sydney'), INTERVAL 456 DAY), WEEK), INTERVAL -1 DAY) AND DATE_TRUNC(DATE_SUB(CURRENT_DATE('Australia/Sydney'), INTERVAL 364 DAY), WEEK)\n",
    "        THEN 'LY'\n",
    "      END AS fiscal_year,\n",
    "      fact_profit.site,\n",
    "      fact_profit.site_description,\n",
    "      CASE\n",
    "        WHEN fact_profit.coles_competitor_distance = '<1 KM'\n",
    "        THEN 'Less than 1km'\n",
    "        WHEN fact_profit.coles_competitor_distance = '1-3 KM'\n",
    "        THEN '1km to 3km'\n",
    "        WHEN fact_profit.coles_competitor_distance = '3-5 KM'\n",
    "        THEN '3km to 5km'\n",
    "        WHEN fact_profit.coles_competitor_distance = '>5 KM'\n",
    "        THEN 'Greater than 5km'\n",
    "        WHEN fact_profit.coles_competitor_distance = 'Same Centre'\n",
    "        THEN 'Same Centre'\n",
    "      END AS coles_competitor_distance,\n",
    "      fact_profit.store_segment,\n",
    "      SUM(fact_profit.sales_excltax) AS sales,\n",
    "      -SUM(fact_profit.total_stock_adjustments) + SUM(fact_profit.dumps_cost) AS stock_adj,\n",
    "      SUM(fact_profit.total_stock_loss) AS tsl,\n",
    "      Safe_Divide(\n",
    "        -SUM(fact_profit.total_stock_adjustments) + SUM(fact_profit.dumps_cost),\n",
    "        SUM(fact_profit.sales_excltax)\n",
    "      ) AS stk_adj_rate,\n",
    "      SUM(fact_profit.items_sold) AS itemssold,\n",
    "      SUM(fact_profit.transaction_cnt_site) AS customers\n",
    "    FROM gcp-wow-ent-im-tbl-prod.gs_allgrp_fin_data.fin_group_profit_v AS fact_profit\n",
    "    WHERE\n",
    "      fact_profit.salesorg = @salesorg\n",
    "      AND fact_profit.region IN UNNEST(@regions)\n",
    "      AND NOT fact_profit.zone LIKE '%CLSD'\n",
    "      AND NOT fact_profit.zone LIKE '%REGX'\n",
    "      AND (\n",
    "        fact_profit.calendar_day BETWEEN DATE_SUB(DATE_TRUNC(DATE_SUB(CURRENT_DATE('Australia/Sydney'), INTERVAL 92 DAY), WEEK), INTERVAL -1 DAY) AND DATE_TRUNC(DATE_SUB(CURRENT_DATE('Australia/Sydney'), INTERVAL 1 DAY), WEEK)\n",
    "        OR fact_profit.calendar_day BETWEEN DATE_SUB(DATE_TRUNC(DATE_SUB(CURRENT_DATE('Australia/Sydney'), INTERVAL 456 DAY), WEEK), INTERVAL -1 DAY) AND DATE_TRUNC(DATE_SUB(CURRENT_DATE('Australia/Sydney'), INTERVAL 364 DAY), WEEK)\n",
    "      )\n",
    "    GROUP BY ALL\n",
    "    ORDER BY\n",
    "      fiscal_week;\n",
    "    \"\"\"\n"
   ]
  },
  {
   "cell_type": "code",
   "execution_count": 23,
   "id": "b9d3c63c",
   "metadata": {},
   "outputs": [],
   "source": [
    "# # Create executor\n",
    "# from src.query_tools.query_runner import create_retail_analytics_executor\n",
    "# executor = create_retail_analytics_executor(\n",
    "#     project_id=\"your-project-id\",\n",
    "#     credentials_path=\"/path/to/credentials.json\"\n",
    "# )\n",
    "\n",
    "# # Test connection\n",
    "# if executor.test_connection():\n",
    "#     # Execute query\n",
    "#     result = executor.weekly_store_performance_metrics(\n",
    "#         salesorg=\"1005\",\n",
    "#         regions=[\"NSW\", \"VIC\", \"QLD\"],\n",
    "#         timezone_1=\"Australia/Sydney\",\n",
    "#         timezone_2=\"Australia/Sydney\", \n",
    "#         timezone_3=\"Australia/Sydney\",\n",
    "#         timezone_4=\"Australia/Sydney\",\n",
    "#         comparison_days_1=92,\n",
    "#         comparison_days_2=1,\n",
    "#         comparison_days_3=456,\n",
    "#         comparison_days_4=364,\n",
    "#         comparison_days_offset_1=-1,\n",
    "#         comparison_days_offset_2=-1\n",
    "#     )\n",
    "    \n",
    "#     print(f\"Query returned {result.row_count} rows\")\n",
    "#     print(f\"Execution time: {result.execution_time_seconds:.2f}s\")"
   ]
  },
  {
   "cell_type": "code",
   "execution_count": null,
   "id": "582016e1",
   "metadata": {},
   "outputs": [],
   "source": []
  }
 ],
 "metadata": {
  "kernelspec": {
   "display_name": ".venv",
   "language": "python",
   "name": "python3"
  },
  "language_info": {
   "codemirror_mode": {
    "name": "ipython",
    "version": 3
   },
   "file_extension": ".py",
   "mimetype": "text/x-python",
   "name": "python",
   "nbconvert_exporter": "python",
   "pygments_lexer": "ipython3",
   "version": "3.12.9"
  }
 },
 "nbformat": 4,
 "nbformat_minor": 5
}
